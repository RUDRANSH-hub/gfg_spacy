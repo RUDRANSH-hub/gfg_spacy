{
 "cells": [
  {
   "cell_type": "markdown",
   "id": "d0afe676",
   "metadata": {},
   "source": [
    "## Noun chunks\n",
    "Noun chunks are “base noun phrases” – flat phrases that have a noun as their head. You can think of noun chunks as a noun plus the words describing the noun – for example, “the lavish green grass” or “the world’s largest tech fund”. To get the noun chunks in a document, simply iterate over Doc.noun_chunks"
   ]
  },
  {
   "cell_type": "code",
   "execution_count": 1,
   "id": "0e3bd057",
   "metadata": {},
   "outputs": [],
   "source": [
    "import spacy\n",
    "\n",
    "nlp = spacy.load(\"en_core_web_sm\")\n",
    "doc = nlp(\"Twitter is a popular social media platform that enables users to share and discover information through short messages called tweets.\")"
   ]
  },
  {
   "cell_type": "code",
   "execution_count": 2,
   "id": "b70cc66b",
   "metadata": {},
   "outputs": [
    {
     "name": "stdout",
     "output_type": "stream",
     "text": [
      "Twitter Twitter nsubj is\n",
      "a popular social media platform platform attr is\n",
      "that that nsubj enables\n",
      "users users dobj enables\n",
      "information information dobj discover\n",
      "short messages messages pobj through\n",
      "tweets tweets oprd called\n"
     ]
    }
   ],
   "source": [
    "for chunk in doc.noun_chunks:\n",
    "    print(chunk.text, chunk.root.text, chunk.root.dep_,\n",
    "            chunk.root.head.text)"
   ]
  },
  {
   "cell_type": "markdown",
   "id": "d141a91e",
   "metadata": {},
   "source": [
    "### Navigating the parse tree\n",
    "spaCy uses the terms head and child to describe the words connected by a single arc in the dependency tree. The term dep is used for the arc label, which describes the type of syntactic relation that connects the child to the head. As with other attributes, the value of .dep is a hash value. You can get the string value with .dep_."
   ]
  },
  {
   "cell_type": "code",
   "execution_count": 4,
   "id": "55ae3686",
   "metadata": {},
   "outputs": [
    {
     "name": "stdout",
     "output_type": "stream",
     "text": [
      "Twitter nsubj is AUX []\n",
      "is ROOT is AUX [Twitter, platform, .]\n",
      "a det platform NOUN []\n",
      "popular amod platform NOUN []\n",
      "social amod media NOUN []\n",
      "media compound platform NOUN [social]\n",
      "platform attr is AUX [a, popular, media, enables]\n",
      "that nsubj enables VERB []\n",
      "enables relcl platform NOUN [that, users, share]\n",
      "users dobj enables VERB []\n",
      "to aux share VERB []\n",
      "share xcomp enables VERB [to, and, discover]\n",
      "and cc share VERB []\n",
      "discover conj share VERB [information, through]\n",
      "information dobj discover VERB []\n",
      "through prep discover VERB [messages]\n",
      "short amod messages NOUN []\n",
      "messages pobj through ADP [short, called]\n",
      "called acl messages NOUN [tweets]\n",
      "tweets oprd called VERB []\n",
      ". punct is AUX []\n"
     ]
    }
   ],
   "source": [
    "doc = nlp(\"Twitter is a popular social media platform that enables users to share and discover information through short messages called tweets.\")\n",
    "for token in doc:\n",
    "    print(token.text, token.dep_, token.head.text, token.head.pos_,\n",
    "            [child for child in token.children])"
   ]
  },
  {
   "cell_type": "code",
   "execution_count": null,
   "id": "971de550",
   "metadata": {},
   "outputs": [],
   "source": []
  }
 ],
 "metadata": {
  "kernelspec": {
   "display_name": "Python 3 (ipykernel)",
   "language": "python",
   "name": "python3"
  },
  "language_info": {
   "codemirror_mode": {
    "name": "ipython",
    "version": 3
   },
   "file_extension": ".py",
   "mimetype": "text/x-python",
   "name": "python",
   "nbconvert_exporter": "python",
   "pygments_lexer": "ipython3",
   "version": "3.9.13"
  }
 },
 "nbformat": 4,
 "nbformat_minor": 5
}
