{
 "cells": [
  {
   "cell_type": "markdown",
   "id": "b83a1e53",
   "metadata": {},
   "source": [
    "## Dependency Parsing"
   ]
  },
  {
   "cell_type": "markdown",
   "id": "94fa5ff0",
   "metadata": {},
   "source": [
    "Dependency parsing is a natural language processing (NLP) technique used to analyze the grammatical structure of a sentence by identifying the syntactic relationships between words. It involves determining the dependency relationships between words in a sentence and representing them as a hierarchical structure called a dependency tree.\n"
   ]
  },
  {
   "cell_type": "markdown",
   "id": "ceeead27",
   "metadata": {},
   "source": [
    "<h4>Here's a basic code example using SpaCy to perform dependency parsing:"
   ]
  },
  {
   "cell_type": "code",
   "execution_count": 2,
   "id": "c2871c08",
   "metadata": {},
   "outputs": [],
   "source": [
    "import spacy\n",
    "\n",
    "# Load the pre-trained English model\n",
    "nlp = spacy.load('en_core_web_sm')"
   ]
  },
  {
   "cell_type": "code",
   "execution_count": 3,
   "id": "d33c97a3",
   "metadata": {},
   "outputs": [],
   "source": [
    "# Text to be parsed\n",
    "text = \"I love GEEKSFORGEEKS.\"\n",
    "\n",
    "# Process the text with dependency parsing\n",
    "doc = nlp(text)"
   ]
  },
  {
   "cell_type": "code",
   "execution_count": 4,
   "id": "db68826d",
   "metadata": {},
   "outputs": [
    {
     "name": "stdout",
     "output_type": "stream",
     "text": [
      "I nsubj love\n",
      "love ROOT love\n",
      "GEEKSFORGEEKS dobj love\n",
      ". punct love\n"
     ]
    }
   ],
   "source": [
    "# Iterate over the tokens in the document\n",
    "for token in doc:\n",
    "    print(token.text, token.dep_, token.head.text)\n",
    "\n"
   ]
  },
  {
   "cell_type": "code",
   "execution_count": 5,
   "id": "93d39cd7",
   "metadata": {},
   "outputs": [
    {
     "name": "stdout",
     "output_type": "stream",
     "text": [
      "I nsubj love []\n",
      "love ROOT love ['I', 'GEEKSFORGEEKS', '.']\n",
      "GEEKSFORGEEKS dobj love []\n",
      ". punct love []\n"
     ]
    }
   ],
   "source": [
    "# Output the dependency tree\n",
    "for token in doc:\n",
    "    print(token.text, token.dep_, token.head.text, [child.text for child in token.children])"
   ]
  },
  {
   "cell_type": "code",
   "execution_count": null,
   "id": "279bd261",
   "metadata": {},
   "outputs": [],
   "source": []
  }
 ],
 "metadata": {
  "kernelspec": {
   "display_name": "Python 3 (ipykernel)",
   "language": "python",
   "name": "python3"
  },
  "language_info": {
   "codemirror_mode": {
    "name": "ipython",
    "version": 3
   },
   "file_extension": ".py",
   "mimetype": "text/x-python",
   "name": "python",
   "nbconvert_exporter": "python",
   "pygments_lexer": "ipython3",
   "version": "3.9.13"
  }
 },
 "nbformat": 4,
 "nbformat_minor": 5
}
