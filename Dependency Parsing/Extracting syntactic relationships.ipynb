{
 "cells": [
  {
   "cell_type": "code",
   "execution_count": 1,
   "id": "6c4f5545",
   "metadata": {},
   "outputs": [
    {
     "name": "stdout",
     "output_type": "stream",
     "text": [
      "('I', 'nsubj', 'love')\n",
      "('love', 'ROOT', 'love')\n",
      "('playing', 'xcomp', 'love')\n",
      "('soccer', 'dobj', 'playing')\n",
      "('.', 'punct', 'love')\n"
     ]
    }
   ],
   "source": [
    "import spacy\n",
    "\n",
    "# Load the pre-trained English model\n",
    "nlp = spacy.load('en_core_web_sm')\n",
    "\n",
    "# Text to be parsed\n",
    "text = \"I love playing soccer.\"\n",
    "\n",
    "# Process the text with dependency parsing\n",
    "doc = nlp(text)\n",
    "\n",
    "# Extract syntactic relationships\n",
    "relationships = []\n",
    "for token in doc:\n",
    "    relationships.append((token.text, token.dep_, token.head.text))\n",
    "\n",
    "# Output the extracted relationships\n",
    "for relationship in relationships:\n",
    "    print(relationship)\n"
   ]
  },
  {
   "cell_type": "markdown",
   "id": "2b4d161b",
   "metadata": {},
   "source": [
    "In this example, we load the pre-trained English model using spacy.load('en_core_web_sm'). We define the input text, text, as \"I love playing soccer.\"\n",
    "\n",
    "We process the text using nlp(text) to create a Doc object. Then, we iterate over the tokens in the document using doc. For each token, we extract its text, dependency label (dep_), and the head word's text (head.text).\n",
    "\n",
    "We store the extracted relationships in a list called relationships. Finally, we iterate over the relationships list and print each extracted syntactic relationship."
   ]
  },
  {
   "cell_type": "code",
   "execution_count": null,
   "id": "d7f1421f",
   "metadata": {},
   "outputs": [],
   "source": []
  }
 ],
 "metadata": {
  "kernelspec": {
   "display_name": "Python 3 (ipykernel)",
   "language": "python",
   "name": "python3"
  },
  "language_info": {
   "codemirror_mode": {
    "name": "ipython",
    "version": 3
   },
   "file_extension": ".py",
   "mimetype": "text/x-python",
   "name": "python",
   "nbconvert_exporter": "python",
   "pygments_lexer": "ipython3",
   "version": "3.9.13"
  }
 },
 "nbformat": 4,
 "nbformat_minor": 5
}
