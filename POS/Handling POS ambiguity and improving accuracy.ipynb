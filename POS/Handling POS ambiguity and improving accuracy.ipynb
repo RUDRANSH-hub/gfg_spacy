{
 "cells": [
  {
   "cell_type": "markdown",
   "id": "ecc3c183",
   "metadata": {},
   "source": [
    "To handle POS ambiguity and improve accuracy, you can incorporate contextual information and use statistical methods to disambiguate the POS tags. Here's an example using SpaCy:\n",
    "\n"
   ]
  },
  {
   "cell_type": "code",
   "execution_count": 1,
   "id": "c9dc4372",
   "metadata": {},
   "outputs": [],
   "source": [
    "import spacy\n",
    "\n",
    "# Load the pre-trained English model\n",
    "nlp = spacy.load('en_core_web_sm')"
   ]
  },
  {
   "cell_type": "code",
   "execution_count": 2,
   "id": "2424c509",
   "metadata": {},
   "outputs": [],
   "source": [
    "# Text to be POS tagged\n",
    "text = \"Rudra taken data science course. worth $60.\""
   ]
  },
  {
   "cell_type": "code",
   "execution_count": 3,
   "id": "c6b8ab31",
   "metadata": {},
   "outputs": [],
   "source": [
    "# Process the text with the POS tagger\n",
    "doc = nlp(text)\n"
   ]
  },
  {
   "cell_type": "code",
   "execution_count": 4,
   "id": "a1fcef02",
   "metadata": {},
   "outputs": [],
   "source": [
    "# Function to disambiguate POS tags based on context\n",
    "def disambiguate_pos(token):\n",
    "    if token.text == \"taken\" and token.head.text == \"Rudra\":\n",
    "        return \"VERB\"  # \"taken\" is a verb in this context\n",
    "    elif token.text == \"worth\" and token.head.text == \"course\":\n",
    "        return \"ADJ\"  # \"worth\" is an adjective in this context\n",
    "    else:\n",
    "        return token.pos_  # Return the default POS tag"
   ]
  },
  {
   "cell_type": "code",
   "execution_count": 5,
   "id": "8779386d",
   "metadata": {},
   "outputs": [
    {
     "name": "stdout",
     "output_type": "stream",
     "text": [
      "Rudra PROPN\n",
      "taken VERB\n",
      "data NOUN\n",
      "science NOUN\n",
      "course NOUN\n",
      ". PUNCT\n",
      "worth ADJ\n",
      "$ SYM\n",
      "60 NUM\n",
      ". PUNCT\n"
     ]
    }
   ],
   "source": [
    "# Iterate over the tokens in the document\n",
    "for token in doc:\n",
    "    pos = disambiguate_pos(token)\n",
    "    print(token.text, pos)"
   ]
  },
  {
   "cell_type": "code",
   "execution_count": 6,
   "id": "cf153e0b",
   "metadata": {},
   "outputs": [
    {
     "name": "stdout",
     "output_type": "stream",
     "text": [
      "[('Rudra', 'PROPN'), ('taken', 'VERB'), ('data', 'NOUN'), ('science', 'NOUN'), ('course', 'NOUN'), ('.', 'PUNCT'), ('worth', 'ADJ'), ('$', 'SYM'), ('60', 'NUM'), ('.', 'PUNCT')]\n"
     ]
    }
   ],
   "source": [
    "# Output the tagged text\n",
    "print([(token.text, disambiguate_pos(token)) for token in doc])"
   ]
  },
  {
   "cell_type": "code",
   "execution_count": null,
   "id": "58036a1d",
   "metadata": {},
   "outputs": [],
   "source": []
  }
 ],
 "metadata": {
  "kernelspec": {
   "display_name": "Python 3 (ipykernel)",
   "language": "python",
   "name": "python3"
  },
  "language_info": {
   "codemirror_mode": {
    "name": "ipython",
    "version": 3
   },
   "file_extension": ".py",
   "mimetype": "text/x-python",
   "name": "python",
   "nbconvert_exporter": "python",
   "pygments_lexer": "ipython3",
   "version": "3.9.13"
  }
 },
 "nbformat": 4,
 "nbformat_minor": 5
}
