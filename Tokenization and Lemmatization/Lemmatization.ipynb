{
 "cells": [
  {
   "cell_type": "code",
   "execution_count": 13,
   "id": "a25cbec9",
   "metadata": {},
   "outputs": [],
   "source": [
    "import spacy\n",
    "\n",
    "# English pipelines include a rule-based lemmatizer\n",
    "nlp = spacy.load(\"en_core_web_sm\")"
   ]
  },
  {
   "cell_type": "code",
   "execution_count": 14,
   "id": "f15b76c7",
   "metadata": {},
   "outputs": [
    {
     "name": "stdout",
     "output_type": "stream",
     "text": [
      "rule\n"
     ]
    }
   ],
   "source": [
    "lemmatizer = nlp.get_pipe(\"lemmatizer\")\n",
    "print(lemmatizer.mode)  # 'rule'"
   ]
  },
  {
   "cell_type": "code",
   "execution_count": 18,
   "id": "78de2557",
   "metadata": {},
   "outputs": [
    {
     "name": "stdout",
     "output_type": "stream",
     "text": [
      "['the', 'quick', 'brown', 'fox', 'jump', 'over', 'the', 'lazy', 'dog', '.']\n"
     ]
    }
   ],
   "source": [
    "doc = nlp(\"The quick brown foxes jumped over the lazy dogs.\")\n",
    "print([token.lemma_ for token in doc])\n",
    "# ['the', 'quick', 'brown', 'fox', 'jump', 'over', 'the', 'lazy', 'dog', '.']"
   ]
  },
  {
   "cell_type": "code",
   "execution_count": 20,
   "id": "e16398ac",
   "metadata": {},
   "outputs": [
    {
     "name": "stdout",
     "output_type": "stream",
     "text": [
      "Lemmas: ['the', 'quick', 'brown', 'fox', 'jump', 'over', 'the', 'lazy', 'dog', '.']\n"
     ]
    }
   ],
   "source": [
    "# Sample text for processing\n",
    "text = \"The quick brown foxes jumped over the lazy dogs.\"\n",
    "\n",
    "# Process the text\n",
    "doc = nlp(text)\n",
    "\n",
    "# Lemmatization\n",
    "lemmas = [token.lemma_ for token in doc]\n",
    "print(\"Lemmas:\", lemmas)"
   ]
  },
  {
   "cell_type": "code",
   "execution_count": 21,
   "id": "d0f54317",
   "metadata": {},
   "outputs": [
    {
     "name": "stdout",
     "output_type": "stream",
     "text": [
      "Filtered Lemmas: ['fox', 'jump', 'dog']\n"
     ]
    }
   ],
   "source": [
    "# Lemmatization with POS filtering\n",
    "lemmas_filtered = [token.lemma_ for token in doc if token.pos_ in ['NOUN', 'VERB']]\n",
    "print(\"Filtered Lemmas:\", lemmas_filtered)\n",
    "\n"
   ]
  },
  {
   "cell_type": "code",
   "execution_count": 22,
   "id": "c19f75a9",
   "metadata": {},
   "outputs": [
    {
     "name": "stdout",
     "output_type": "stream",
     "text": [
      "Lemmas with Custom Stop Words: ['the', 'brown', 'fox', 'over', 'the', 'dog', '.']\n"
     ]
    }
   ],
   "source": [
    "# Lemmatization with custom stop words\n",
    "custom_stop_words = ['quick', 'jumped', 'lazy']\n",
    "lemmas_custom_stop = [token.lemma_ for token in doc if token.text.lower() not in custom_stop_words]\n",
    "print(\"Lemmas with Custom Stop Words:\", lemmas_custom_stop)"
   ]
  },
  {
   "cell_type": "code",
   "execution_count": null,
   "id": "d5daf5bf",
   "metadata": {},
   "outputs": [],
   "source": []
  }
 ],
 "metadata": {
  "kernelspec": {
   "display_name": "Python 3 (ipykernel)",
   "language": "python",
   "name": "python3"
  },
  "language_info": {
   "codemirror_mode": {
    "name": "ipython",
    "version": 3
   },
   "file_extension": ".py",
   "mimetype": "text/x-python",
   "name": "python",
   "nbconvert_exporter": "python",
   "pygments_lexer": "ipython3",
   "version": "3.11.0"
  }
 },
 "nbformat": 4,
 "nbformat_minor": 5
}
