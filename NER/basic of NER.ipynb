{
 "cells": [
  {
   "cell_type": "markdown",
   "id": "e9c855d8",
   "metadata": {},
   "source": [
    "## Name Entity Recognition"
   ]
  },
  {
   "cell_type": "markdown",
   "id": "f3c38851",
   "metadata": {},
   "source": [
    "NER, or Named Entity Recognition, is a fundamental task in natural language processing (NLP) that involves identifying and categorizing named entities in text. Named entities refer to specific entities that have names, such as persons, organizations, locations, dates, and more. NER plays a crucial role in various NLP applications, including information extraction, question answering, and text summarization."
   ]
  },
  {
   "cell_type": "markdown",
   "id": "cabeb39b",
   "metadata": {},
   "source": [
    "## Basics of NER:"
   ]
  },
  {
   "cell_type": "markdown",
   "id": "150d7609",
   "metadata": {},
   "source": [
    "<h3>Definition:</h3> \n",
    "\n",
    "NER is the process of identifying and classifying named entities in text into predefined categories. The commonly recognized entity types include person names, organizations, locations, date expressions, time expressions, monetary values, percentages, and more."
   ]
  },
  {
   "cell_type": "markdown",
   "id": "c8faf8dc",
   "metadata": {},
   "source": [
    "<h3>Entity Types:</h3> \n",
    "    \n",
    "<h4> Named entities can be categorized into various types, depending on the domain and application. The common entity types include: </h4>\n",
    "\n",
    "Person: Individual names or pronouns representing people.\n",
    "\n",
    "Organization: Company names, institutions, or other organized groups.\n",
    "\n",
    "Location: Names of cities, countries, regions, or specific places.\n",
    "\n",
    "Date: Expressions representing dates or periods.\n",
    "\n",
    "Time: Expressions representing specific times or durations.\n",
    "\n",
    "Money: Monetary values, including currencies.\n",
    "\n",
    "Percentage: Numeric expressions representing percentages.\n",
    "\n",
    "Miscellaneous: Other named entities that do not fit into the above categories."
   ]
  },
  {
   "cell_type": "markdown",
   "id": "247891e9",
   "metadata": {},
   "source": [
    "<h3>Annotation:</h3> \n",
    "\n",
    "NER typically involves annotating a dataset with labeled named entities. Human annotators manually label the named entities in the text and assign appropriate entity types. This annotated data is then used to train NER models."
   ]
  },
  {
   "cell_type": "markdown",
   "id": "1ee0fe8d",
   "metadata": {},
   "source": [
    "<h3> Applications:</h3> \n",
    "\n",
    "NER is used in a wide range of applications, including:\n",
    "\n",
    "<h4>*Information Extraction:</h4> \n",
    "Extracting structured information from unstructured text, such as extracting person names and organizations from news articles.\n",
    "\n",
    "<h4>*Question Answering:</h4> Identifying and extracting relevant entities to answer specific questions, such as extracting the location mentioned in a question like \"Where was the conference held?\"\n",
    "Text Summarization: Recognizing important named entities to generate informative summaries.\n",
    "<h4>*Document Classification:</h4> Augmenting document classification models with named entity information for improved performance."
   ]
  },
  {
   "cell_type": "code",
   "execution_count": 3,
   "id": "fc00dc7a",
   "metadata": {},
   "outputs": [],
   "source": [
    "import spacy\n",
    "\n",
    "# Load the pre-trained English model\n",
    "nlp = spacy.load('en_core_web_sm')"
   ]
  },
  {
   "cell_type": "code",
   "execution_count": 7,
   "id": "f0c7a691",
   "metadata": {},
   "outputs": [
    {
     "name": "stdout",
     "output_type": "stream",
     "text": [
      "Apple Inc. ORG\n",
      "Cupertino GPE\n",
      "California GPE\n"
     ]
    }
   ],
   "source": [
    "# Text to be processed\n",
    "text = \"Apple Inc. is headquartered in Cupertino, California.\"\n",
    "\n",
    "# Process the text with NER\n",
    "doc = nlp(text)\n",
    "\n",
    "# Iterate over the entities in the document\n",
    "for entity in doc.ents:\n",
    "    print(entity.text, entity.label_)\n"
   ]
  },
  {
   "cell_type": "code",
   "execution_count": 8,
   "id": "422d4599",
   "metadata": {},
   "outputs": [
    {
     "name": "stdout",
     "output_type": "stream",
     "text": [
      "[('Apple Inc.', 'ORG'), ('Cupertino', 'GPE'), ('California', 'GPE')]\n"
     ]
    }
   ],
   "source": [
    "# Output the tagged text with entity annotations\n",
    "print([(entity.text, entity.label_) for entity in doc.ents])"
   ]
  },
  {
   "cell_type": "markdown",
   "id": "a0faaeb6",
   "metadata": {},
   "source": [
    "As you can see, the entities \"Apple Inc.\" (an organization), \"Cupertino\" (a geopolitical entity), and \"California\" (a geopolitical entity) are correctly recognized and labeled by the NER model."
   ]
  },
  {
   "cell_type": "code",
   "execution_count": null,
   "id": "4d323664",
   "metadata": {},
   "outputs": [],
   "source": []
  }
 ],
 "metadata": {
  "kernelspec": {
   "display_name": "Python 3 (ipykernel)",
   "language": "python",
   "name": "python3"
  },
  "language_info": {
   "codemirror_mode": {
    "name": "ipython",
    "version": 3
   },
   "file_extension": ".py",
   "mimetype": "text/x-python",
   "name": "python",
   "nbconvert_exporter": "python",
   "pygments_lexer": "ipython3",
   "version": "3.9.13"
  }
 },
 "nbformat": 4,
 "nbformat_minor": 5
}
