{
 "cells": [
  {
   "cell_type": "markdown",
   "id": "985bb1f4",
   "metadata": {},
   "source": [
    "spaCy features an extremely fast statistical entity recognition system, that assigns labels to contiguous spans of tokens. The default trained pipelines can identify a variety of named and numeric entities, including companies, locations, organizations and products. You can add arbitrary classes to the entity recognition system, and update the model with new examples."
   ]
  },
  {
   "cell_type": "markdown",
   "id": "713ed4a7",
   "metadata": {},
   "source": [
    "## Named Entity Recognition\n",
    "A named entity is a “real-world object” that’s assigned a name – for example, a person, a country, a product or a book title. spaCy can recognize various types of named entities in a document, by asking the model for a prediction. Because models are statistical and strongly depend on the examples they were trained on, this doesn’t always work perfectly and might need some tuning later, depending on your use case."
   ]
  },
  {
   "cell_type": "markdown",
   "id": "18b05033",
   "metadata": {},
   "source": [
    "\n",
    "Named entities are available as the ents property of a Doc:"
   ]
  },
  {
   "cell_type": "code",
   "execution_count": 1,
   "id": "030a1736",
   "metadata": {},
   "outputs": [],
   "source": [
    "import spacy\n",
    "nlp = spacy.load(\"en_core_web_sm\")"
   ]
  },
  {
   "cell_type": "code",
   "execution_count": 2,
   "id": "ae3fd3a2",
   "metadata": {},
   "outputs": [
    {
     "data": {
      "text/plain": [
       "Apple is looking at buying U.K. startup for $1 billion"
      ]
     },
     "execution_count": 2,
     "metadata": {},
     "output_type": "execute_result"
    }
   ],
   "source": [
    "doc = nlp(\"Apple is looking at buying U.K. startup for $1 billion\")\n",
    "doc"
   ]
  },
  {
   "cell_type": "code",
   "execution_count": 9,
   "id": "fc662e91",
   "metadata": {},
   "outputs": [],
   "source": [
    "ner=[]"
   ]
  },
  {
   "cell_type": "code",
   "execution_count": 10,
   "id": "a794740b",
   "metadata": {},
   "outputs": [
    {
     "name": "stdout",
     "output_type": "stream",
     "text": [
      "Apple Apple\n",
      "U.K. U.K.\n",
      "$1 billion $1 billion\n"
     ]
    }
   ],
   "source": [
    "l=[]\n",
    "for ent in doc.ents:\n",
    "    l.append(ent.text)\n",
    "    print(\"{}\".format(ent),ent.text)\n",
    "    \n",
    "ner[\"\"]"
   ]
  },
  {
   "cell_type": "code",
   "execution_count": 11,
   "id": "8d79a777",
   "metadata": {},
   "outputs": [
    {
     "name": "stdout",
     "output_type": "stream",
     "text": [
      "Apple 0\n",
      "U.K. 27\n",
      "$1 billion 44\n"
     ]
    }
   ],
   "source": [
    "m=[]\n",
    "for ent in doc.ents:\n",
    "    m.append(ent.start_char)\n",
    "    print(\"{}\".format(ent),ent.start_char)\n",
    "ner.append(m)"
   ]
  },
  {
   "cell_type": "code",
   "execution_count": 12,
   "id": "85702dd2",
   "metadata": {},
   "outputs": [
    {
     "name": "stdout",
     "output_type": "stream",
     "text": [
      "Apple 5\n",
      "U.K. 31\n",
      "$1 billion 54\n"
     ]
    }
   ],
   "source": [
    "n=[]\n",
    "for ent in doc.ents:\n",
    "    n.append(ent.end_char)\n",
    "    print(\"{}\".format(ent),ent.end_char)\n",
    "ner.append(n)"
   ]
  },
  {
   "cell_type": "code",
   "execution_count": 13,
   "id": "942e3472",
   "metadata": {},
   "outputs": [
    {
     "name": "stdout",
     "output_type": "stream",
     "text": [
      "Apple ORG\n",
      "U.K. GPE\n",
      "$1 billion MONEY\n"
     ]
    }
   ],
   "source": [
    "o=[]\n",
    "for ent in doc.ents:\n",
    "    o.append(ent.label_)\n",
    "    print(\"{}\".format(ent),ent.label_)\n",
    "ner.append(o)"
   ]
  },
  {
   "cell_type": "code",
   "execution_count": 29,
   "id": "89f15c75",
   "metadata": {},
   "outputs": [
    {
     "name": "stdout",
     "output_type": "stream",
     "text": [
      "Apple\n",
      "0\n",
      "5\n",
      "ORG\n"
     ]
    }
   ],
   "source": [
    "for i in range(len(ner)):\n",
    "    print(ner[i][0])"
   ]
  },
  {
   "cell_type": "markdown",
   "id": "3444f2a3",
   "metadata": {},
   "source": [
    "we define the entities and their POS tags as a list of tuples in the entities variable. Each tuple contains the entity text, start index, end index, and the corresponding POS tag. For instance, (\"Apple\", 0, 5, \"ORG\") indicates that \"Apple\" is an organization entity."
   ]
  },
  {
   "cell_type": "code",
   "execution_count": 30,
   "id": "8fa80cc4",
   "metadata": {},
   "outputs": [
    {
     "name": "stdout",
     "output_type": "stream",
     "text": [
      "[['Apple', 'U.K.', '$1 billion'], [0, 27, 44], [5, 31, 54], ['ORG', 'GPE', 'MONEY']]\n"
     ]
    }
   ],
   "source": [
    "print(ner)"
   ]
  },
  {
   "cell_type": "code",
   "execution_count": 33,
   "id": "ab1c7452",
   "metadata": {},
   "outputs": [
    {
     "name": "stdout",
     "output_type": "stream",
     "text": [
      "Apple 0 5 ORG\n",
      "U.K. 27 31 GPE\n",
      "$1 billion 44 54 MONEY\n"
     ]
    }
   ],
   "source": [
    "for ent in doc.ents:\n",
    "    print(ent.text, ent.start_char, ent.end_char, ent.label_)"
   ]
  },
  {
   "cell_type": "code",
   "execution_count": 34,
   "id": "0d52acd7",
   "metadata": {},
   "outputs": [
    {
     "data": {
      "text/html": [
       "<img src=\"img1.png\" width=\"500\" height=\"500\"/>"
      ],
      "text/plain": [
       "<IPython.core.display.Image object>"
      ]
     },
     "execution_count": 34,
     "metadata": {},
     "output_type": "execute_result"
    }
   ],
   "source": [
    "from IPython.display import Image\n",
    "  \n",
    "# get the image\n",
    "Image(url=\"img1.png\", width=500, height=500)"
   ]
  }
 ],
 "metadata": {
  "kernelspec": {
   "display_name": "Python 3 (ipykernel)",
   "language": "python",
   "name": "python3"
  },
  "language_info": {
   "codemirror_mode": {
    "name": "ipython",
    "version": 3
   },
   "file_extension": ".py",
   "mimetype": "text/x-python",
   "name": "python",
   "nbconvert_exporter": "python",
   "pygments_lexer": "ipython3",
   "version": "3.9.13"
  }
 },
 "nbformat": 4,
 "nbformat_minor": 5
}
