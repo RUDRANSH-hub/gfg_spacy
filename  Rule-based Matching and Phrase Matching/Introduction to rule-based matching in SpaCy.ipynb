{
 "cells": [
  {
   "cell_type": "markdown",
   "id": "7c719ea8",
   "metadata": {},
   "source": [
    "## Rule Based Matcher\n",
    "patterns or entities based on predefined rules. It allows you to define patterns using linguistic attributes such as token text, part-of-speech tags, dependency labels, and more. The rule-based matcher in SpaCy can be used to find sequences of tokens that match these patterns.\n",
    "\n",
    "Here's a basic example of rule-based matching in SpaCy:"
   ]
  },
  {
   "cell_type": "markdown",
   "id": "37e8848f",
   "metadata": {},
   "source": [
    "## Token-based matching"
   ]
  },
  {
   "cell_type": "markdown",
   "id": "e9a26e95",
   "metadata": {},
   "source": [
    "Token-based matching in SpaCy allows you to find and match specific tokens based on their attributes or properties. It provides flexibility in defining patterns and conditions for matching tokens within a text. Let's look at an example:"
   ]
  },
  {
   "cell_type": "code",
   "execution_count": 45,
   "id": "ba376c8d",
   "metadata": {},
   "outputs": [],
   "source": [
    "import spacy\n",
    "from spacy.matcher import Matcher\n",
    "\n",
    "# Load the pre-trained English model\n",
    "nlp = spacy.load('en_core_web_sm')\n"
   ]
  },
  {
   "cell_type": "code",
   "execution_count": 55,
   "id": "ff090d31",
   "metadata": {},
   "outputs": [
    {
     "data": {
      "text/plain": [
       "<spacy.matcher.matcher.Matcher at 0x7fb010e94c10>"
      ]
     },
     "execution_count": 55,
     "metadata": {},
     "output_type": "execute_result"
    }
   ],
   "source": [
    "# Text to be processed\n",
    "text = \"hello I have a cat and A dog.\"\n",
    "\n",
    "# Initialize the matcher\n",
    "matcher = Matcher(nlp.vocab)\n",
    "matcher"
   ]
  },
  {
   "cell_type": "markdown",
   "id": "210a9817",
   "metadata": {},
   "source": [
    "### Adding patterns"
   ]
  },
  {
   "cell_type": "markdown",
   "id": "0e0b5f00",
   "metadata": {},
   "source": [
    "A token whose lowercase form matches “a”, e.g. “A cat” or “a dog”.<br>\n",
    "A token whose Part of Speech NOUN"
   ]
  },
  {
   "cell_type": "code",
   "execution_count": 56,
   "id": "e5c961d2",
   "metadata": {},
   "outputs": [
    {
     "data": {
      "text/plain": [
       "[{'LOWER': 'a'}, {'POS': 'NOUN'}]"
      ]
     },
     "execution_count": 56,
     "metadata": {},
     "output_type": "execute_result"
    }
   ],
   "source": [
    "# Define a pattern\n",
    "pattern = [{\"LOWER\": \"a\"}, {'POS': 'NOUN'}]\n",
    "pattern"
   ]
  },
  {
   "cell_type": "code",
   "execution_count": 57,
   "id": "8d1e9d4b",
   "metadata": {},
   "outputs": [],
   "source": [
    "# Add the pattern to the matcher\n",
    "matcher.add('NounPattern', [pattern])\n"
   ]
  },
  {
   "cell_type": "code",
   "execution_count": 58,
   "id": "a4e6b6aa",
   "metadata": {},
   "outputs": [
    {
     "data": {
      "text/plain": [
       "<spacy.matcher.matcher.Matcher at 0x7fb010e94c10>"
      ]
     },
     "execution_count": 58,
     "metadata": {},
     "output_type": "execute_result"
    }
   ],
   "source": [
    "# Process the text with the matcher\n",
    "doc = nlp(text)\n",
    "matches = matcher(doc)\n",
    "matcher"
   ]
  },
  {
   "cell_type": "code",
   "execution_count": 59,
   "id": "2e7c8120",
   "metadata": {},
   "outputs": [
    {
     "name": "stdout",
     "output_type": "stream",
     "text": [
      "a cat\n",
      "A dog\n"
     ]
    }
   ],
   "source": [
    "# Iterate over the matched spans\n",
    "for match_id, start, end in matches:\n",
    "    span = doc[start:end]\n",
    "    print(span.text)"
   ]
  },
  {
   "cell_type": "markdown",
   "id": "5af24472",
   "metadata": {},
   "source": [
    "We initialize the matcher using Matcher(nlp.vocab). Then, we define the pattern we want to match using a list of dictionaries. Each dictionary represents the attributes and values of the tokens we want to match. In this case, the pattern matches a lowercase \"a\" followed by a noun.\n",
    "\n",
    "We add the pattern to the matcher using matcher.add(\"NounPattern\", None, pattern). The first argument is a unique identifier for the pattern, the second argument is an optional callback function, and the third argument is the pattern itself.\n",
    "\n",
    "Next, we process the text with the matcher using matches = matcher(doc). This returns a list of tuples, where each tuple contains the match ID, start index, and end index of the matched span.\n",
    "\n",
    "Finally, we iterate over the matched spans and print their text using span.text."
   ]
  },
  {
   "cell_type": "code",
   "execution_count": null,
   "id": "f9dfb101",
   "metadata": {},
   "outputs": [],
   "source": []
  }
 ],
 "metadata": {
  "kernelspec": {
   "display_name": "Python 3 (ipykernel)",
   "language": "python",
   "name": "python3"
  },
  "language_info": {
   "codemirror_mode": {
    "name": "ipython",
    "version": 3
   },
   "file_extension": ".py",
   "mimetype": "text/x-python",
   "name": "python",
   "nbconvert_exporter": "python",
   "pygments_lexer": "ipython3",
   "version": "3.9.13"
  }
 },
 "nbformat": 4,
 "nbformat_minor": 5
}
